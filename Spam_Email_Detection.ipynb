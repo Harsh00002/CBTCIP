{
  "cells": [
    {
      "cell_type": "markdown",
      "metadata": {
        "id": "view-in-github",
        "colab_type": "text"
      },
      "source": [
        "<a href=\"https://colab.research.google.com/github/Harsh00002/CBTCIP/blob/main/Spam_Email_Detection.ipynb\" target=\"_parent\"><img src=\"https://colab.research.google.com/assets/colab-badge.svg\" alt=\"Open In Colab\"/></a>"
      ]
    },
    {
      "cell_type": "code",
      "execution_count": 1,
      "id": "cc1c8862",
      "metadata": {
        "id": "cc1c8862"
      },
      "outputs": [],
      "source": [
        "import warnings\n",
        "warnings.simplefilter('ignore')\n",
        "\n",
        "import numpy as np\n",
        "import pandas as pd\n",
        "import matplotlib.pyplot as plt\n",
        "\n",
        "from sklearn.model_selection import train_test_split\n",
        "from sklearn.feature_extraction.text import TfidfVectorizer\n",
        "\n",
        "from sklearn.metrics import accuracy_score\n",
        "from sklearn.metrics import precision_score\n",
        "from sklearn.metrics import recall_score\n",
        "from sklearn.metrics import f1_score"
      ]
    },
    {
      "cell_type": "code",
      "execution_count": 2,
      "id": "91d47f14",
      "metadata": {
        "id": "91d47f14"
      },
      "outputs": [],
      "source": [
        "from sklearn.linear_model import LogisticRegression\n",
        "from sklearn.tree import DecisionTreeClassifier\n",
        "from sklearn.svm import SVC\n",
        "from sklearn.neighbors import KNeighborsClassifier\n",
        "from sklearn.ensemble import RandomForestClassifier\n",
        "\n",
        "from sklearn.ensemble import StackingClassifier"
      ]
    },
    {
      "cell_type": "code",
      "execution_count": 5,
      "id": "cc348497",
      "metadata": {
        "colab": {
          "base_uri": "https://localhost:8080/",
          "height": 424
        },
        "id": "cc348497",
        "outputId": "c29cc979-d43e-4a81-97ab-024857e1a4b6"
      },
      "outputs": [
        {
          "output_type": "execute_result",
          "data": {
            "text/plain": [
              "        v1                                                 v2 Unnamed: 2  \\\n",
              "0      ham  Go until jurong point, crazy.. Available only ...        NaN   \n",
              "1      ham                      Ok lar... Joking wif u oni...        NaN   \n",
              "2     spam  Free entry in 2 a wkly comp to win FA Cup fina...        NaN   \n",
              "3      ham  U dun say so early hor... U c already then say...        NaN   \n",
              "4      ham  Nah I don't think he goes to usf, he lives aro...        NaN   \n",
              "...    ...                                                ...        ...   \n",
              "5567  spam  This is the 2nd time we have tried 2 contact u...        NaN   \n",
              "5568   ham              Will �_ b going to esplanade fr home?        NaN   \n",
              "5569   ham  Pity, * was in mood for that. So...any other s...        NaN   \n",
              "5570   ham  The guy did some bitching but I acted like i'd...        NaN   \n",
              "5571   ham                         Rofl. Its true to its name        NaN   \n",
              "\n",
              "     Unnamed: 3 Unnamed: 4  \n",
              "0           NaN        NaN  \n",
              "1           NaN        NaN  \n",
              "2           NaN        NaN  \n",
              "3           NaN        NaN  \n",
              "4           NaN        NaN  \n",
              "...         ...        ...  \n",
              "5567        NaN        NaN  \n",
              "5568        NaN        NaN  \n",
              "5569        NaN        NaN  \n",
              "5570        NaN        NaN  \n",
              "5571        NaN        NaN  \n",
              "\n",
              "[5572 rows x 5 columns]"
            ],
            "text/html": [
              "\n",
              "\n",
              "  <div id=\"df-054eb1d0-eded-4a06-abee-010589472b62\">\n",
              "    <div class=\"colab-df-container\">\n",
              "      <div>\n",
              "<style scoped>\n",
              "    .dataframe tbody tr th:only-of-type {\n",
              "        vertical-align: middle;\n",
              "    }\n",
              "\n",
              "    .dataframe tbody tr th {\n",
              "        vertical-align: top;\n",
              "    }\n",
              "\n",
              "    .dataframe thead th {\n",
              "        text-align: right;\n",
              "    }\n",
              "</style>\n",
              "<table border=\"1\" class=\"dataframe\">\n",
              "  <thead>\n",
              "    <tr style=\"text-align: right;\">\n",
              "      <th></th>\n",
              "      <th>v1</th>\n",
              "      <th>v2</th>\n",
              "      <th>Unnamed: 2</th>\n",
              "      <th>Unnamed: 3</th>\n",
              "      <th>Unnamed: 4</th>\n",
              "    </tr>\n",
              "  </thead>\n",
              "  <tbody>\n",
              "    <tr>\n",
              "      <th>0</th>\n",
              "      <td>ham</td>\n",
              "      <td>Go until jurong point, crazy.. Available only ...</td>\n",
              "      <td>NaN</td>\n",
              "      <td>NaN</td>\n",
              "      <td>NaN</td>\n",
              "    </tr>\n",
              "    <tr>\n",
              "      <th>1</th>\n",
              "      <td>ham</td>\n",
              "      <td>Ok lar... Joking wif u oni...</td>\n",
              "      <td>NaN</td>\n",
              "      <td>NaN</td>\n",
              "      <td>NaN</td>\n",
              "    </tr>\n",
              "    <tr>\n",
              "      <th>2</th>\n",
              "      <td>spam</td>\n",
              "      <td>Free entry in 2 a wkly comp to win FA Cup fina...</td>\n",
              "      <td>NaN</td>\n",
              "      <td>NaN</td>\n",
              "      <td>NaN</td>\n",
              "    </tr>\n",
              "    <tr>\n",
              "      <th>3</th>\n",
              "      <td>ham</td>\n",
              "      <td>U dun say so early hor... U c already then say...</td>\n",
              "      <td>NaN</td>\n",
              "      <td>NaN</td>\n",
              "      <td>NaN</td>\n",
              "    </tr>\n",
              "    <tr>\n",
              "      <th>4</th>\n",
              "      <td>ham</td>\n",
              "      <td>Nah I don't think he goes to usf, he lives aro...</td>\n",
              "      <td>NaN</td>\n",
              "      <td>NaN</td>\n",
              "      <td>NaN</td>\n",
              "    </tr>\n",
              "    <tr>\n",
              "      <th>...</th>\n",
              "      <td>...</td>\n",
              "      <td>...</td>\n",
              "      <td>...</td>\n",
              "      <td>...</td>\n",
              "      <td>...</td>\n",
              "    </tr>\n",
              "    <tr>\n",
              "      <th>5567</th>\n",
              "      <td>spam</td>\n",
              "      <td>This is the 2nd time we have tried 2 contact u...</td>\n",
              "      <td>NaN</td>\n",
              "      <td>NaN</td>\n",
              "      <td>NaN</td>\n",
              "    </tr>\n",
              "    <tr>\n",
              "      <th>5568</th>\n",
              "      <td>ham</td>\n",
              "      <td>Will �_ b going to esplanade fr home?</td>\n",
              "      <td>NaN</td>\n",
              "      <td>NaN</td>\n",
              "      <td>NaN</td>\n",
              "    </tr>\n",
              "    <tr>\n",
              "      <th>5569</th>\n",
              "      <td>ham</td>\n",
              "      <td>Pity, * was in mood for that. So...any other s...</td>\n",
              "      <td>NaN</td>\n",
              "      <td>NaN</td>\n",
              "      <td>NaN</td>\n",
              "    </tr>\n",
              "    <tr>\n",
              "      <th>5570</th>\n",
              "      <td>ham</td>\n",
              "      <td>The guy did some bitching but I acted like i'd...</td>\n",
              "      <td>NaN</td>\n",
              "      <td>NaN</td>\n",
              "      <td>NaN</td>\n",
              "    </tr>\n",
              "    <tr>\n",
              "      <th>5571</th>\n",
              "      <td>ham</td>\n",
              "      <td>Rofl. Its true to its name</td>\n",
              "      <td>NaN</td>\n",
              "      <td>NaN</td>\n",
              "      <td>NaN</td>\n",
              "    </tr>\n",
              "  </tbody>\n",
              "</table>\n",
              "<p>5572 rows × 5 columns</p>\n",
              "</div>\n",
              "      <button class=\"colab-df-convert\" onclick=\"convertToInteractive('df-054eb1d0-eded-4a06-abee-010589472b62')\"\n",
              "              title=\"Convert this dataframe to an interactive table.\"\n",
              "              style=\"display:none;\">\n",
              "\n",
              "  <svg xmlns=\"http://www.w3.org/2000/svg\" height=\"24px\"viewBox=\"0 0 24 24\"\n",
              "       width=\"24px\">\n",
              "    <path d=\"M0 0h24v24H0V0z\" fill=\"none\"/>\n",
              "    <path d=\"M18.56 5.44l.94 2.06.94-2.06 2.06-.94-2.06-.94-.94-2.06-.94 2.06-2.06.94zm-11 1L8.5 8.5l.94-2.06 2.06-.94-2.06-.94L8.5 2.5l-.94 2.06-2.06.94zm10 10l.94 2.06.94-2.06 2.06-.94-2.06-.94-.94-2.06-.94 2.06-2.06.94z\"/><path d=\"M17.41 7.96l-1.37-1.37c-.4-.4-.92-.59-1.43-.59-.52 0-1.04.2-1.43.59L10.3 9.45l-7.72 7.72c-.78.78-.78 2.05 0 2.83L4 21.41c.39.39.9.59 1.41.59.51 0 1.02-.2 1.41-.59l7.78-7.78 2.81-2.81c.8-.78.8-2.07 0-2.86zM5.41 20L4 18.59l7.72-7.72 1.47 1.35L5.41 20z\"/>\n",
              "  </svg>\n",
              "      </button>\n",
              "\n",
              "\n",
              "\n",
              "    <div id=\"df-756fe5d8-e9dc-48e4-a04a-7074b4b99cd0\">\n",
              "      <button class=\"colab-df-quickchart\" onclick=\"quickchart('df-756fe5d8-e9dc-48e4-a04a-7074b4b99cd0')\"\n",
              "              title=\"Suggest charts.\"\n",
              "              style=\"display:none;\">\n",
              "\n",
              "<svg xmlns=\"http://www.w3.org/2000/svg\" height=\"24px\"viewBox=\"0 0 24 24\"\n",
              "     width=\"24px\">\n",
              "    <g>\n",
              "        <path d=\"M19 3H5c-1.1 0-2 .9-2 2v14c0 1.1.9 2 2 2h14c1.1 0 2-.9 2-2V5c0-1.1-.9-2-2-2zM9 17H7v-7h2v7zm4 0h-2V7h2v10zm4 0h-2v-4h2v4z\"/>\n",
              "    </g>\n",
              "</svg>\n",
              "      </button>\n",
              "    </div>\n",
              "\n",
              "<style>\n",
              "  .colab-df-quickchart {\n",
              "    background-color: #E8F0FE;\n",
              "    border: none;\n",
              "    border-radius: 50%;\n",
              "    cursor: pointer;\n",
              "    display: none;\n",
              "    fill: #1967D2;\n",
              "    height: 32px;\n",
              "    padding: 0 0 0 0;\n",
              "    width: 32px;\n",
              "  }\n",
              "\n",
              "  .colab-df-quickchart:hover {\n",
              "    background-color: #E2EBFA;\n",
              "    box-shadow: 0px 1px 2px rgba(60, 64, 67, 0.3), 0px 1px 3px 1px rgba(60, 64, 67, 0.15);\n",
              "    fill: #174EA6;\n",
              "  }\n",
              "\n",
              "  [theme=dark] .colab-df-quickchart {\n",
              "    background-color: #3B4455;\n",
              "    fill: #D2E3FC;\n",
              "  }\n",
              "\n",
              "  [theme=dark] .colab-df-quickchart:hover {\n",
              "    background-color: #434B5C;\n",
              "    box-shadow: 0px 1px 3px 1px rgba(0, 0, 0, 0.15);\n",
              "    filter: drop-shadow(0px 1px 2px rgba(0, 0, 0, 0.3));\n",
              "    fill: #FFFFFF;\n",
              "  }\n",
              "</style>\n",
              "\n",
              "    <script>\n",
              "      async function quickchart(key) {\n",
              "        const containerElement = document.querySelector('#' + key);\n",
              "        const charts = await google.colab.kernel.invokeFunction(\n",
              "            'suggestCharts', [key], {});\n",
              "      }\n",
              "    </script>\n",
              "\n",
              "      <script>\n",
              "\n",
              "function displayQuickchartButton(domScope) {\n",
              "  let quickchartButtonEl =\n",
              "    domScope.querySelector('#df-756fe5d8-e9dc-48e4-a04a-7074b4b99cd0 button.colab-df-quickchart');\n",
              "  quickchartButtonEl.style.display =\n",
              "    google.colab.kernel.accessAllowed ? 'block' : 'none';\n",
              "}\n",
              "\n",
              "        displayQuickchartButton(document);\n",
              "      </script>\n",
              "      <style>\n",
              "    .colab-df-container {\n",
              "      display:flex;\n",
              "      flex-wrap:wrap;\n",
              "      gap: 12px;\n",
              "    }\n",
              "\n",
              "    .colab-df-convert {\n",
              "      background-color: #E8F0FE;\n",
              "      border: none;\n",
              "      border-radius: 50%;\n",
              "      cursor: pointer;\n",
              "      display: none;\n",
              "      fill: #1967D2;\n",
              "      height: 32px;\n",
              "      padding: 0 0 0 0;\n",
              "      width: 32px;\n",
              "    }\n",
              "\n",
              "    .colab-df-convert:hover {\n",
              "      background-color: #E2EBFA;\n",
              "      box-shadow: 0px 1px 2px rgba(60, 64, 67, 0.3), 0px 1px 3px 1px rgba(60, 64, 67, 0.15);\n",
              "      fill: #174EA6;\n",
              "    }\n",
              "\n",
              "    [theme=dark] .colab-df-convert {\n",
              "      background-color: #3B4455;\n",
              "      fill: #D2E3FC;\n",
              "    }\n",
              "\n",
              "    [theme=dark] .colab-df-convert:hover {\n",
              "      background-color: #434B5C;\n",
              "      box-shadow: 0px 1px 3px 1px rgba(0, 0, 0, 0.15);\n",
              "      filter: drop-shadow(0px 1px 2px rgba(0, 0, 0, 0.3));\n",
              "      fill: #FFFFFF;\n",
              "    }\n",
              "  </style>\n",
              "\n",
              "      <script>\n",
              "        const buttonEl =\n",
              "          document.querySelector('#df-054eb1d0-eded-4a06-abee-010589472b62 button.colab-df-convert');\n",
              "        buttonEl.style.display =\n",
              "          google.colab.kernel.accessAllowed ? 'block' : 'none';\n",
              "\n",
              "        async function convertToInteractive(key) {\n",
              "          const element = document.querySelector('#df-054eb1d0-eded-4a06-abee-010589472b62');\n",
              "          const dataTable =\n",
              "            await google.colab.kernel.invokeFunction('convertToInteractive',\n",
              "                                                     [key], {});\n",
              "          if (!dataTable) return;\n",
              "\n",
              "          const docLinkHtml = 'Like what you see? Visit the ' +\n",
              "            '<a target=\"_blank\" href=https://colab.research.google.com/notebooks/data_table.ipynb>data table notebook</a>'\n",
              "            + ' to learn more about interactive tables.';\n",
              "          element.innerHTML = '';\n",
              "          dataTable['output_type'] = 'display_data';\n",
              "          await google.colab.output.renderOutput(dataTable, element);\n",
              "          const docLink = document.createElement('div');\n",
              "          docLink.innerHTML = docLinkHtml;\n",
              "          element.appendChild(docLink);\n",
              "        }\n",
              "      </script>\n",
              "    </div>\n",
              "  </div>\n"
            ]
          },
          "metadata": {},
          "execution_count": 5
        }
      ],
      "source": [
        "df =  pd.read_csv(\"Spam.csv\")\n",
        "df"
      ]
    },
    {
      "cell_type": "code",
      "execution_count": 6,
      "id": "74567d76",
      "metadata": {
        "id": "74567d76"
      },
      "outputs": [],
      "source": [
        "data = df.drop(labels=['Unnamed: 2', 'Unnamed: 3', 'Unnamed: 4'], axis=1)"
      ]
    },
    {
      "cell_type": "code",
      "execution_count": 7,
      "id": "dd6c7cb4",
      "metadata": {
        "colab": {
          "base_uri": "https://localhost:8080/"
        },
        "id": "dd6c7cb4",
        "outputId": "22a0c2a9-9269-42dc-f5c3-cd3b05d56fa4"
      },
      "outputs": [
        {
          "output_type": "execute_result",
          "data": {
            "text/plain": [
              "v1    0\n",
              "v2    0\n",
              "dtype: int64"
            ]
          },
          "metadata": {},
          "execution_count": 7
        }
      ],
      "source": [
        "data.isnull().sum()"
      ]
    },
    {
      "cell_type": "code",
      "execution_count": 8,
      "id": "2e2f82d4",
      "metadata": {
        "colab": {
          "base_uri": "https://localhost:8080/"
        },
        "id": "2e2f82d4",
        "outputId": "448cdbe7-4ae8-485a-f33d-bc4d845f21a7"
      },
      "outputs": [
        {
          "output_type": "execute_result",
          "data": {
            "text/plain": [
              "v1    object\n",
              "v2    object\n",
              "dtype: object"
            ]
          },
          "metadata": {},
          "execution_count": 8
        }
      ],
      "source": [
        "data.dtypes"
      ]
    },
    {
      "cell_type": "code",
      "execution_count": 10,
      "id": "5a48466b",
      "metadata": {
        "id": "5a48466b"
      },
      "outputs": [],
      "source": [
        "data.loc[data['v1'] == 'spam', 'v1',] = 0\n",
        "data.loc[data['v1'] == 'ham', 'v1',] = 1"
      ]
    },
    {
      "cell_type": "code",
      "execution_count": 12,
      "id": "0c1bc1f2",
      "metadata": {
        "colab": {
          "base_uri": "https://localhost:8080/"
        },
        "id": "0c1bc1f2",
        "outputId": "9f23d6cc-0a29-4378-91a3-8ab2b97d7ef1"
      },
      "outputs": [
        {
          "output_type": "execute_result",
          "data": {
            "text/plain": [
              "1    4825\n",
              "0     747\n",
              "Name: v1, dtype: int64"
            ]
          },
          "metadata": {},
          "execution_count": 12
        }
      ],
      "source": [
        "data['v1'].value_counts()"
      ]
    },
    {
      "cell_type": "code",
      "execution_count": 13,
      "id": "e0c4d4f1",
      "metadata": {
        "id": "e0c4d4f1"
      },
      "outputs": [],
      "source": [
        "X = data['v2']\n",
        "\n",
        "Y = data['v1']"
      ]
    },
    {
      "cell_type": "code",
      "execution_count": 14,
      "id": "2e966f37",
      "metadata": {
        "colab": {
          "base_uri": "https://localhost:8080/"
        },
        "id": "2e966f37",
        "outputId": "cc581efb-c147-41ba-e94c-826ac31a442f"
      },
      "outputs": [
        {
          "output_type": "execute_result",
          "data": {
            "text/plain": [
              "0       Go until jurong point, crazy.. Available only ...\n",
              "1                           Ok lar... Joking wif u oni...\n",
              "2       Free entry in 2 a wkly comp to win FA Cup fina...\n",
              "3       U dun say so early hor... U c already then say...\n",
              "4       Nah I don't think he goes to usf, he lives aro...\n",
              "                              ...                        \n",
              "5567    This is the 2nd time we have tried 2 contact u...\n",
              "5568                Will �_ b going to esplanade fr home?\n",
              "5569    Pity, * was in mood for that. So...any other s...\n",
              "5570    The guy did some bitching but I acted like i'd...\n",
              "5571                           Rofl. Its true to its name\n",
              "Name: v2, Length: 5572, dtype: object"
            ]
          },
          "metadata": {},
          "execution_count": 14
        }
      ],
      "source": [
        "X"
      ]
    },
    {
      "cell_type": "code",
      "execution_count": 15,
      "id": "53ede04d",
      "metadata": {
        "colab": {
          "base_uri": "https://localhost:8080/"
        },
        "id": "53ede04d",
        "outputId": "56842552-a140-453b-a869-762f4250d6eb"
      },
      "outputs": [
        {
          "output_type": "execute_result",
          "data": {
            "text/plain": [
              "0       1\n",
              "1       1\n",
              "2       0\n",
              "3       1\n",
              "4       1\n",
              "       ..\n",
              "5567    0\n",
              "5568    1\n",
              "5569    1\n",
              "5570    1\n",
              "5571    1\n",
              "Name: v1, Length: 5572, dtype: object"
            ]
          },
          "metadata": {},
          "execution_count": 15
        }
      ],
      "source": [
        "Y"
      ]
    },
    {
      "cell_type": "code",
      "execution_count": 16,
      "id": "e5fcf412",
      "metadata": {
        "id": "e5fcf412"
      },
      "outputs": [],
      "source": [
        "X_train, X_test, Y_train, Y_test = train_test_split(X, Y, test_size=0.2, random_state=3)"
      ]
    },
    {
      "cell_type": "code",
      "execution_count": 17,
      "id": "711f5006",
      "metadata": {
        "colab": {
          "base_uri": "https://localhost:8080/"
        },
        "id": "711f5006",
        "outputId": "87525dca-23c7-410a-d6ab-a26ebe24522d"
      },
      "outputs": [
        {
          "output_type": "stream",
          "name": "stdout",
          "text": [
            "(5572,)\n",
            "(4457,)\n",
            "(1115,)\n"
          ]
        }
      ],
      "source": [
        "print(X.shape)\n",
        "print(X_train.shape)\n",
        "print(X_test.shape)"
      ]
    },
    {
      "cell_type": "code",
      "execution_count": 20,
      "id": "a8fdbc37",
      "metadata": {
        "id": "a8fdbc37"
      },
      "outputs": [],
      "source": [
        "feature_extraction = TfidfVectorizer(min_df = 1, stop_words='english')"
      ]
    },
    {
      "cell_type": "code",
      "execution_count": 21,
      "id": "796fdced",
      "metadata": {
        "id": "796fdced"
      },
      "outputs": [],
      "source": [
        "X_train_features = feature_extraction.fit_transform(X_train)\n",
        "X_test_features = feature_extraction.transform(X_test)"
      ]
    },
    {
      "cell_type": "code",
      "execution_count": 22,
      "id": "124c387b",
      "metadata": {
        "id": "124c387b"
      },
      "outputs": [],
      "source": [
        "Y_train = Y_train.astype('int')\n",
        "Y_test = Y_test.astype('int')"
      ]
    },
    {
      "cell_type": "markdown",
      "id": "74683297",
      "metadata": {
        "id": "74683297"
      },
      "source": [
        "# LOGISTIC REGRESSION"
      ]
    },
    {
      "cell_type": "code",
      "execution_count": 23,
      "id": "fdb86511",
      "metadata": {
        "colab": {
          "base_uri": "https://localhost:8080/"
        },
        "id": "fdb86511",
        "outputId": "f3778f3f-0a1b-491e-e9b8-3153bae8085e"
      },
      "outputs": [
        {
          "output_type": "stream",
          "name": "stdout",
          "text": [
            "Logistic Regression:\n",
            "\n",
            "Training Data Accuracy: 0.9661207089970832\n",
            "Testing Data Accuracy : 0.9623318385650225\n",
            "Precision             : 0.959\n",
            "Recall                : 0.9989583333333333\n",
            "F1 Score              : 0.9785714285714285\n"
          ]
        }
      ],
      "source": [
        "lr = LogisticRegression()\n",
        "lr.fit(X_train_features, Y_train)\n",
        "\n",
        "\n",
        "lr_train = lr.predict(X_train_features)\n",
        "lr_test = lr.predict(X_test_features)\n",
        "\n",
        "\n",
        "lr_train_acc = accuracy_score(Y_train, lr_train)\n",
        "lr_test_acc = accuracy_score(Y_test, lr_test)\n",
        "\n",
        "\n",
        "lr_precision = precision_score(Y_test, lr_test)\n",
        "lr_recall = recall_score(Y_test, lr_test)\n",
        "lr_f1 = f1_score(Y_test, lr_test)\n",
        "\n",
        "\n",
        "print(\"Logistic Regression:\\n\")\n",
        "print(\"Training Data Accuracy:\", lr_train_acc)\n",
        "print(\"Testing Data Accuracy :\", lr_test_acc)\n",
        "\n",
        "print(\"Precision             :\", lr_precision)\n",
        "print(\"Recall                :\", lr_recall)\n",
        "print(\"F1 Score              :\", lr_f1)"
      ]
    },
    {
      "cell_type": "markdown",
      "id": "3398ca05",
      "metadata": {
        "id": "3398ca05"
      },
      "source": [
        "# DECISION TREES"
      ]
    },
    {
      "cell_type": "code",
      "execution_count": 24,
      "id": "669b602f",
      "metadata": {
        "colab": {
          "base_uri": "https://localhost:8080/"
        },
        "id": "669b602f",
        "outputId": "30162d54-03b0-4ddd-bb59-eb99d8013e17"
      },
      "outputs": [
        {
          "output_type": "stream",
          "name": "stdout",
          "text": [
            "Decision Tress:\n",
            "\n",
            "Training Data Accuracy: 1.0\n",
            "Testing Data Accuracy : 0.9659192825112107\n",
            "Precision             : 0.9752577319587629\n",
            "Recall                : 0.9854166666666667\n",
            "F1 Score              : 0.9803108808290156\n"
          ]
        }
      ],
      "source": [
        "dtrees = DecisionTreeClassifier()\n",
        "dtrees.fit(X_train_features, Y_train)\n",
        "\n",
        "\n",
        "dt_train = dtrees.predict(X_train_features)\n",
        "dt_test = dtrees.predict(X_test_features)\n",
        "\n",
        "\n",
        "dt_train_acc = accuracy_score(Y_train, dt_train)\n",
        "dt_test_acc = accuracy_score(Y_test, dt_test)\n",
        "\n",
        "\n",
        "dt_precision = precision_score(Y_test, dt_test)\n",
        "dt_recall = recall_score(Y_test, dt_test)\n",
        "dt_f1 = f1_score(Y_test, dt_test)\n",
        "\n",
        "\n",
        "print(\"Decision Tress:\\n\")\n",
        "print(\"Training Data Accuracy:\", dt_train_acc)\n",
        "print(\"Testing Data Accuracy :\", dt_test_acc)\n",
        "\n",
        "print(\"Precision             :\", dt_precision)\n",
        "print(\"Recall                :\", dt_recall)\n",
        "print(\"F1 Score              :\", dt_f1)"
      ]
    },
    {
      "cell_type": "markdown",
      "id": "90ea91a3",
      "metadata": {
        "id": "90ea91a3"
      },
      "source": [
        "# K NEAREST NEIGHBORS"
      ]
    },
    {
      "cell_type": "code",
      "execution_count": 25,
      "id": "47523a35",
      "metadata": {
        "colab": {
          "base_uri": "https://localhost:8080/"
        },
        "id": "47523a35",
        "outputId": "7b832f9f-d48e-4fa4-a2d8-2879e73deabe"
      },
      "outputs": [
        {
          "output_type": "stream",
          "name": "stdout",
          "text": [
            "K Nearest Neighbors:\n",
            "\n",
            "Training Data Accuracy: 0.9201256450527261\n",
            "Testing Data Accuracy : 0.905829596412556\n",
            "Precision             : 0.9014084507042254\n",
            "Recall                : 1.0\n",
            "F1 Score              : 0.9481481481481481\n"
          ]
        }
      ],
      "source": [
        "knn = KNeighborsClassifier()\n",
        "knn.fit(X_train_features, Y_train)\n",
        "\n",
        "\n",
        "knn_train = knn.predict(X_train_features)\n",
        "knn_test = knn.predict(X_test_features)\n",
        "\n",
        "\n",
        "knn_train_acc = accuracy_score(Y_train, knn_train)\n",
        "knn_test_acc = accuracy_score(Y_test, knn_test)\n",
        "\n",
        "\n",
        "knn_precision = precision_score(Y_test, knn_test)\n",
        "knn_recall = recall_score(Y_test, knn_test)\n",
        "knn_f1 = f1_score(Y_test, knn_test)\n",
        "\n",
        "\n",
        "print(\"K Nearest Neighbors:\\n\")\n",
        "print(\"Training Data Accuracy:\", knn_train_acc)\n",
        "print(\"Testing Data Accuracy :\", knn_test_acc)\n",
        "\n",
        "print(\"Precision             :\", knn_precision)\n",
        "print(\"Recall                :\", knn_recall)\n",
        "print(\"F1 Score              :\", knn_f1)"
      ]
    },
    {
      "cell_type": "markdown",
      "id": "43f66f5c",
      "metadata": {
        "id": "43f66f5c"
      },
      "source": [
        "# RANDOM FOREST"
      ]
    },
    {
      "cell_type": "code",
      "execution_count": 26,
      "id": "bf28b066",
      "metadata": {
        "colab": {
          "base_uri": "https://localhost:8080/"
        },
        "id": "bf28b066",
        "outputId": "add824b2-3d64-4afc-9554-dd7dda78feb9"
      },
      "outputs": [
        {
          "output_type": "stream",
          "name": "stdout",
          "text": [
            "Random Forest:\n",
            "\n",
            "Training Data Accuracy: 1.0\n",
            "Testing Data Accuracy : 0.979372197309417\n",
            "Precision             : 0.9775739041794088\n",
            "Recall                : 0.9989583333333333\n",
            "F1 Score              : 0.9881504379185987\n"
          ]
        }
      ],
      "source": [
        "rf = RandomForestClassifier()\n",
        "rf.fit(X_train_features, Y_train)\n",
        "\n",
        "\n",
        "rf_train = rf.predict(X_train_features)\n",
        "rf_test = rf.predict(X_test_features)\n",
        "\n",
        "\n",
        "rf_train_acc = accuracy_score(Y_train, rf_train)\n",
        "rf_test_acc = accuracy_score(Y_test, rf_test)\n",
        "\n",
        "\n",
        "rf_precision = precision_score(Y_test, rf_test)\n",
        "rf_recall = recall_score(Y_test, rf_test)\n",
        "rf_f1 = f1_score(Y_test, rf_test)\n",
        "\n",
        "\n",
        "print(\"Random Forest:\\n\")\n",
        "print(\"Training Data Accuracy:\", rf_train_acc)\n",
        "print(\"Testing Data Accuracy :\", rf_test_acc)\n",
        "\n",
        "print(\"Precision             :\", rf_precision)\n",
        "print(\"Recall                :\", rf_recall)\n",
        "print(\"F1 Score              :\", rf_f1)"
      ]
    },
    {
      "cell_type": "markdown",
      "id": "6c144d9c",
      "metadata": {
        "id": "6c144d9c"
      },
      "source": [
        "# STACKING MODEL"
      ]
    },
    {
      "cell_type": "code",
      "execution_count": 27,
      "id": "df960558",
      "metadata": {
        "colab": {
          "base_uri": "https://localhost:8080/"
        },
        "id": "df960558",
        "outputId": "dfb61d96-dc4a-4412-d252-c96cd9b4e583"
      },
      "outputs": [
        {
          "output_type": "stream",
          "name": "stdout",
          "text": [
            "Stacking Classifier:\n",
            "\n",
            "Training Data Accuracy: 0.9995512676688355\n",
            "Testing Data Accuracy : 0.9865470852017937\n",
            "Precision             : 0.9876160990712074\n",
            "Recall                : 0.996875\n",
            "F1 Score              : 0.9922239502332814\n"
          ]
        }
      ],
      "source": [
        "estimators = [ ('lr', lr), ('dtree', dtrees), ('knn', knn), ('rf', rf) ]\n",
        "stack = StackingClassifier(estimators, final_estimator = SVC(kernel='linear'))\n",
        "stack.fit(X_train_features, Y_train)\n",
        "\n",
        "\n",
        "stack_train = stack.predict(X_train_features)\n",
        "stack_test = stack.predict(X_test_features)\n",
        "\n",
        "\n",
        "stack_train_acc = accuracy_score(Y_train, stack_train)\n",
        "stack_test_acc = accuracy_score(Y_test, stack_test)\n",
        "\n",
        "\n",
        "stack_precision = precision_score(Y_test, stack_test)\n",
        "stack_recall = recall_score(Y_test, stack_test)\n",
        "stack_f1 = f1_score(Y_test, stack_test)\n",
        "\n",
        "\n",
        "print(\"Stacking Classifier:\\n\")\n",
        "print(\"Training Data Accuracy:\", stack_train_acc)\n",
        "print(\"Testing Data Accuracy :\", stack_test_acc)\n",
        "\n",
        "print(\"Precision             :\", stack_precision)\n",
        "print(\"Recall                :\", stack_recall)\n",
        "print(\"F1 Score              :\", stack_f1)"
      ]
    },
    {
      "cell_type": "markdown",
      "id": "ae56053e",
      "metadata": {
        "id": "ae56053e"
      },
      "source": [
        "# Metrics Visualization"
      ]
    },
    {
      "cell_type": "code",
      "execution_count": 28,
      "id": "c82afbcd",
      "metadata": {
        "id": "c82afbcd"
      },
      "outputs": [],
      "source": [
        "train_acc_list = {\"LR\":lr_train_acc,\n",
        "                  \"DT\":dt_train_acc,\n",
        "                  \"KNN\":knn_train_acc,\n",
        "                  \"RF\":rf_train_acc,\n",
        "                  \"STACK\":stack_train_acc}\n",
        "\n",
        "test_acc_list = {\"LR\":lr_test_acc,\n",
        "                  \"DT\":dt_test_acc,\n",
        "                  \"KNN\":knn_test_acc,\n",
        "                  \"RF\":rf_test_acc,\n",
        "                  \"STACK\":stack_test_acc}\n",
        "\n",
        "precision_list = {\"LR\":lr_precision,\n",
        "                  \"DT\":dt_precision,\n",
        "                  \"KNN\":knn_precision,\n",
        "                  \"RF\":rf_precision,\n",
        "                  \"STACK\":stack_precision}\n",
        "\n",
        "recall_list = {\"LR\":lr_recall,\n",
        "               \"DT\":dt_recall,\n",
        "               \"KNN\":knn_recall,\n",
        "               \"RF\":rf_recall,\n",
        "               \"STACK\":stack_recall}\n",
        "\n",
        "f1_list = {\"LR\":lr_f1,\n",
        "               \"DT\":dt_f1,\n",
        "               \"KNN\":knn_f1,\n",
        "               \"RF\":rf_f1,\n",
        "               \"STACK\":stack_f1}"
      ]
    },
    {
      "cell_type": "code",
      "execution_count": 29,
      "id": "f23ebde4",
      "metadata": {
        "colab": {
          "base_uri": "https://localhost:8080/",
          "height": 206
        },
        "id": "f23ebde4",
        "outputId": "e2efd6a1-250b-4654-d1f3-5ef45e7413eb"
      },
      "outputs": [
        {
          "output_type": "execute_result",
          "data": {
            "text/plain": [
              "       Traning Accuracy  Testing Accuracy  Precision Score  Recall Score  \\\n",
              "LR             0.966121          0.962332         0.959000      0.998958   \n",
              "DT             1.000000          0.965919         0.975258      0.985417   \n",
              "KNN            0.920126          0.905830         0.901408      1.000000   \n",
              "RF             1.000000          0.979372         0.977574      0.998958   \n",
              "STACK          0.999551          0.986547         0.987616      0.996875   \n",
              "\n",
              "       F1 Score  \n",
              "LR     0.978571  \n",
              "DT     0.980311  \n",
              "KNN    0.948148  \n",
              "RF     0.988150  \n",
              "STACK  0.992224  "
            ],
            "text/html": [
              "\n",
              "\n",
              "  <div id=\"df-bc7fc71c-ae7b-41c0-bce0-2b88d0876312\">\n",
              "    <div class=\"colab-df-container\">\n",
              "      <div>\n",
              "<style scoped>\n",
              "    .dataframe tbody tr th:only-of-type {\n",
              "        vertical-align: middle;\n",
              "    }\n",
              "\n",
              "    .dataframe tbody tr th {\n",
              "        vertical-align: top;\n",
              "    }\n",
              "\n",
              "    .dataframe thead th {\n",
              "        text-align: right;\n",
              "    }\n",
              "</style>\n",
              "<table border=\"1\" class=\"dataframe\">\n",
              "  <thead>\n",
              "    <tr style=\"text-align: right;\">\n",
              "      <th></th>\n",
              "      <th>Traning Accuracy</th>\n",
              "      <th>Testing Accuracy</th>\n",
              "      <th>Precision Score</th>\n",
              "      <th>Recall Score</th>\n",
              "      <th>F1 Score</th>\n",
              "    </tr>\n",
              "  </thead>\n",
              "  <tbody>\n",
              "    <tr>\n",
              "      <th>LR</th>\n",
              "      <td>0.966121</td>\n",
              "      <td>0.962332</td>\n",
              "      <td>0.959000</td>\n",
              "      <td>0.998958</td>\n",
              "      <td>0.978571</td>\n",
              "    </tr>\n",
              "    <tr>\n",
              "      <th>DT</th>\n",
              "      <td>1.000000</td>\n",
              "      <td>0.965919</td>\n",
              "      <td>0.975258</td>\n",
              "      <td>0.985417</td>\n",
              "      <td>0.980311</td>\n",
              "    </tr>\n",
              "    <tr>\n",
              "      <th>KNN</th>\n",
              "      <td>0.920126</td>\n",
              "      <td>0.905830</td>\n",
              "      <td>0.901408</td>\n",
              "      <td>1.000000</td>\n",
              "      <td>0.948148</td>\n",
              "    </tr>\n",
              "    <tr>\n",
              "      <th>RF</th>\n",
              "      <td>1.000000</td>\n",
              "      <td>0.979372</td>\n",
              "      <td>0.977574</td>\n",
              "      <td>0.998958</td>\n",
              "      <td>0.988150</td>\n",
              "    </tr>\n",
              "    <tr>\n",
              "      <th>STACK</th>\n",
              "      <td>0.999551</td>\n",
              "      <td>0.986547</td>\n",
              "      <td>0.987616</td>\n",
              "      <td>0.996875</td>\n",
              "      <td>0.992224</td>\n",
              "    </tr>\n",
              "  </tbody>\n",
              "</table>\n",
              "</div>\n",
              "      <button class=\"colab-df-convert\" onclick=\"convertToInteractive('df-bc7fc71c-ae7b-41c0-bce0-2b88d0876312')\"\n",
              "              title=\"Convert this dataframe to an interactive table.\"\n",
              "              style=\"display:none;\">\n",
              "\n",
              "  <svg xmlns=\"http://www.w3.org/2000/svg\" height=\"24px\"viewBox=\"0 0 24 24\"\n",
              "       width=\"24px\">\n",
              "    <path d=\"M0 0h24v24H0V0z\" fill=\"none\"/>\n",
              "    <path d=\"M18.56 5.44l.94 2.06.94-2.06 2.06-.94-2.06-.94-.94-2.06-.94 2.06-2.06.94zm-11 1L8.5 8.5l.94-2.06 2.06-.94-2.06-.94L8.5 2.5l-.94 2.06-2.06.94zm10 10l.94 2.06.94-2.06 2.06-.94-2.06-.94-.94-2.06-.94 2.06-2.06.94z\"/><path d=\"M17.41 7.96l-1.37-1.37c-.4-.4-.92-.59-1.43-.59-.52 0-1.04.2-1.43.59L10.3 9.45l-7.72 7.72c-.78.78-.78 2.05 0 2.83L4 21.41c.39.39.9.59 1.41.59.51 0 1.02-.2 1.41-.59l7.78-7.78 2.81-2.81c.8-.78.8-2.07 0-2.86zM5.41 20L4 18.59l7.72-7.72 1.47 1.35L5.41 20z\"/>\n",
              "  </svg>\n",
              "      </button>\n",
              "\n",
              "\n",
              "\n",
              "    <div id=\"df-ab001659-8e8f-40d0-a24d-d978c6ad8559\">\n",
              "      <button class=\"colab-df-quickchart\" onclick=\"quickchart('df-ab001659-8e8f-40d0-a24d-d978c6ad8559')\"\n",
              "              title=\"Suggest charts.\"\n",
              "              style=\"display:none;\">\n",
              "\n",
              "<svg xmlns=\"http://www.w3.org/2000/svg\" height=\"24px\"viewBox=\"0 0 24 24\"\n",
              "     width=\"24px\">\n",
              "    <g>\n",
              "        <path d=\"M19 3H5c-1.1 0-2 .9-2 2v14c0 1.1.9 2 2 2h14c1.1 0 2-.9 2-2V5c0-1.1-.9-2-2-2zM9 17H7v-7h2v7zm4 0h-2V7h2v10zm4 0h-2v-4h2v4z\"/>\n",
              "    </g>\n",
              "</svg>\n",
              "      </button>\n",
              "    </div>\n",
              "\n",
              "<style>\n",
              "  .colab-df-quickchart {\n",
              "    background-color: #E8F0FE;\n",
              "    border: none;\n",
              "    border-radius: 50%;\n",
              "    cursor: pointer;\n",
              "    display: none;\n",
              "    fill: #1967D2;\n",
              "    height: 32px;\n",
              "    padding: 0 0 0 0;\n",
              "    width: 32px;\n",
              "  }\n",
              "\n",
              "  .colab-df-quickchart:hover {\n",
              "    background-color: #E2EBFA;\n",
              "    box-shadow: 0px 1px 2px rgba(60, 64, 67, 0.3), 0px 1px 3px 1px rgba(60, 64, 67, 0.15);\n",
              "    fill: #174EA6;\n",
              "  }\n",
              "\n",
              "  [theme=dark] .colab-df-quickchart {\n",
              "    background-color: #3B4455;\n",
              "    fill: #D2E3FC;\n",
              "  }\n",
              "\n",
              "  [theme=dark] .colab-df-quickchart:hover {\n",
              "    background-color: #434B5C;\n",
              "    box-shadow: 0px 1px 3px 1px rgba(0, 0, 0, 0.15);\n",
              "    filter: drop-shadow(0px 1px 2px rgba(0, 0, 0, 0.3));\n",
              "    fill: #FFFFFF;\n",
              "  }\n",
              "</style>\n",
              "\n",
              "    <script>\n",
              "      async function quickchart(key) {\n",
              "        const containerElement = document.querySelector('#' + key);\n",
              "        const charts = await google.colab.kernel.invokeFunction(\n",
              "            'suggestCharts', [key], {});\n",
              "      }\n",
              "    </script>\n",
              "\n",
              "      <script>\n",
              "\n",
              "function displayQuickchartButton(domScope) {\n",
              "  let quickchartButtonEl =\n",
              "    domScope.querySelector('#df-ab001659-8e8f-40d0-a24d-d978c6ad8559 button.colab-df-quickchart');\n",
              "  quickchartButtonEl.style.display =\n",
              "    google.colab.kernel.accessAllowed ? 'block' : 'none';\n",
              "}\n",
              "\n",
              "        displayQuickchartButton(document);\n",
              "      </script>\n",
              "      <style>\n",
              "    .colab-df-container {\n",
              "      display:flex;\n",
              "      flex-wrap:wrap;\n",
              "      gap: 12px;\n",
              "    }\n",
              "\n",
              "    .colab-df-convert {\n",
              "      background-color: #E8F0FE;\n",
              "      border: none;\n",
              "      border-radius: 50%;\n",
              "      cursor: pointer;\n",
              "      display: none;\n",
              "      fill: #1967D2;\n",
              "      height: 32px;\n",
              "      padding: 0 0 0 0;\n",
              "      width: 32px;\n",
              "    }\n",
              "\n",
              "    .colab-df-convert:hover {\n",
              "      background-color: #E2EBFA;\n",
              "      box-shadow: 0px 1px 2px rgba(60, 64, 67, 0.3), 0px 1px 3px 1px rgba(60, 64, 67, 0.15);\n",
              "      fill: #174EA6;\n",
              "    }\n",
              "\n",
              "    [theme=dark] .colab-df-convert {\n",
              "      background-color: #3B4455;\n",
              "      fill: #D2E3FC;\n",
              "    }\n",
              "\n",
              "    [theme=dark] .colab-df-convert:hover {\n",
              "      background-color: #434B5C;\n",
              "      box-shadow: 0px 1px 3px 1px rgba(0, 0, 0, 0.15);\n",
              "      filter: drop-shadow(0px 1px 2px rgba(0, 0, 0, 0.3));\n",
              "      fill: #FFFFFF;\n",
              "    }\n",
              "  </style>\n",
              "\n",
              "      <script>\n",
              "        const buttonEl =\n",
              "          document.querySelector('#df-bc7fc71c-ae7b-41c0-bce0-2b88d0876312 button.colab-df-convert');\n",
              "        buttonEl.style.display =\n",
              "          google.colab.kernel.accessAllowed ? 'block' : 'none';\n",
              "\n",
              "        async function convertToInteractive(key) {\n",
              "          const element = document.querySelector('#df-bc7fc71c-ae7b-41c0-bce0-2b88d0876312');\n",
              "          const dataTable =\n",
              "            await google.colab.kernel.invokeFunction('convertToInteractive',\n",
              "                                                     [key], {});\n",
              "          if (!dataTable) return;\n",
              "\n",
              "          const docLinkHtml = 'Like what you see? Visit the ' +\n",
              "            '<a target=\"_blank\" href=https://colab.research.google.com/notebooks/data_table.ipynb>data table notebook</a>'\n",
              "            + ' to learn more about interactive tables.';\n",
              "          element.innerHTML = '';\n",
              "          dataTable['output_type'] = 'display_data';\n",
              "          await google.colab.output.renderOutput(dataTable, element);\n",
              "          const docLink = document.createElement('div');\n",
              "          docLink.innerHTML = docLinkHtml;\n",
              "          element.appendChild(docLink);\n",
              "        }\n",
              "      </script>\n",
              "    </div>\n",
              "  </div>\n"
            ]
          },
          "metadata": {},
          "execution_count": 29
        }
      ],
      "source": [
        "a1 =  pd.DataFrame.from_dict(train_acc_list, orient = 'index', columns = [\"Traning Accuracy\"])\n",
        "a2 =  pd.DataFrame.from_dict(test_acc_list, orient = 'index', columns = [\"Testing Accuracy\"])\n",
        "a3 =  pd.DataFrame.from_dict(precision_list, orient = 'index', columns = [\"Precision Score\"])\n",
        "a4 =  pd.DataFrame.from_dict(recall_list, orient = 'index', columns = [\"Recall Score\"])\n",
        "a5 =  pd.DataFrame.from_dict(f1_list, orient = 'index', columns = [\"F1 Score\"])\n",
        "\n",
        "org = pd.concat([a1, a2, a3, a4, a5], axis = 1)\n",
        "org"
      ]
    },
    {
      "cell_type": "code",
      "execution_count": 30,
      "id": "c2bf5803",
      "metadata": {
        "colab": {
          "base_uri": "https://localhost:8080/",
          "height": 452
        },
        "id": "c2bf5803",
        "outputId": "cf7e0183-32de-4e98-860c-db1f9feee3b8"
      },
      "outputs": [
        {
          "output_type": "display_data",
          "data": {
            "text/plain": [
              "<Figure size 640x480 with 1 Axes>"
            ],
            "image/png": "[encoded data removed]"
          },
          "metadata": {}
        }
      ],
      "source": [
        "alg = ['LR','DT','KNN','RF','STACK']\n",
        "plt.plot(alg,a1)\n",
        "plt.plot(alg,a2)\n",
        "plt.plot(alg,a3)\n",
        "plt.plot(alg,a4)\n",
        "plt.plot(alg,a5)\n",
        "legend = ['Traning Accuracy', 'Testing Accuracy', 'Precision Score', 'Recall Score', 'F1 Score']\n",
        "plt.title(\"METRICS COMPARISION\")\n",
        "plt.legend(legend)\n",
        "plt.show()"
      ]
    },
    {
      "cell_type": "code",
      "execution_count": 31,
      "id": "b2b950ab",
      "metadata": {
        "colab": {
          "base_uri": "https://localhost:8080/"
        },
        "id": "b2b950ab",
        "outputId": "fcb7dd82-b0c6-4252-d324-4d1e89ca9f2d"
      },
      "outputs": [
        {
          "output_type": "stream",
          "name": "stdout",
          "text": [
            "HAM MAIL\n"
          ]
        }
      ],
      "source": [
        "input_mail = [\"Hi this is  kalyan\"]\n",
        "\n",
        "input_mail_features = feature_extraction.transform(input_mail)\n",
        "\n",
        "prediction = stack.predict(input_mail_features)\n",
        "\n",
        "if(prediction == 0):\n",
        "    print(\"SPAM MAIL\")\n",
        "else:\n",
        "    print(\"HAM MAIL\")"
      ]
    }
  ],
  "metadata": {
    "kernelspec": {
      "display_name": "Python 3 (ipykernel)",
      "language": "python",
      "name": "python3"
    },
    "language_info": {
      "codemirror_mode": {
        "name": "ipython",
        "version": 3
      },
      "file_extension": ".py",
      "mimetype": "text/x-python",
      "name": "python",
      "nbconvert_exporter": "python",
      "pygments_lexer": "ipython3",
      "version": "3.9.13"
    },
    "colab": {
      "provenance": [],
      "include_colab_link": true
    }
  },
  "nbformat": 4,
  "nbformat_minor": 5
}